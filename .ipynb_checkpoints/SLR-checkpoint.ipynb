{
 "cells": [
  {
   "cell_type": "markdown",
   "id": "f672d643",
   "metadata": {},
   "source": [
    "## Ноутбук для простейшей линейной регрессии. \n",
    "Здесь мы попытаемся построить прямую вида $y = \\alpha x + \\beta$ для заданного набора пар ${(x_1, y_1), ..., (x_n, y_n)}$ с учетом метода наименьших квадратов."
   ]
  },
  {
   "cell_type": "code",
   "execution_count": 16,
   "id": "07e16d7a",
   "metadata": {},
   "outputs": [],
   "source": [
    "import numpy as np\n",
    "from sklearn.linear_model import LinearRegression\n",
    "import matplotlib.pyplot as plt\n",
    "import seaborn as sns\n",
    "sns.set()"
   ]
  },
  {
   "cell_type": "code",
   "execution_count": 47,
   "id": "1f87dfdd",
   "metadata": {},
   "outputs": [
    {
     "name": "stdout",
     "output_type": "stream",
     "text": [
      "1 2 5 6 8 10 15\n",
      "1 4 8 13 17 20 25\n"
     ]
    }
   ],
   "source": [
    "x = np.array(list(map(int, input().split()))).reshape(-1, 1)\n",
    "y = np.array(list(map(int, input().split())))"
   ]
  },
  {
   "cell_type": "code",
   "execution_count": 48,
   "id": "24283982",
   "metadata": {},
   "outputs": [],
   "source": [
    "model = LinearRegression().fit(x, y) #Вот тут происходит вся магия по вычислению коэффициентов"
   ]
  },
  {
   "cell_type": "code",
   "execution_count": 49,
   "id": "6f590011",
   "metadata": {},
   "outputs": [],
   "source": [
    "beta = model.intercept_\n",
    "alpha = model.coef_"
   ]
  },
  {
   "cell_type": "code",
   "execution_count": 53,
   "id": "56b4b159",
   "metadata": {},
   "outputs": [
    {
     "data": {
      "text/plain": [
       "[<matplotlib.lines.Line2D at 0x2ce32682370>]"
      ]
     },
     "execution_count": 53,
     "metadata": {},
     "output_type": "execute_result"
    },
    {
     "data": {
      "image/png": "[encoded data removed]",
      "text/plain": [
       "<Figure size 432x288 with 1 Axes>"
      ]
     },
     "metadata": {},
     "output_type": "display_data"
    }
   ],
   "source": [
    "plt.scatter(x, y)\n",
    "x_model = np.linspace(min(x) // 2, max(x) + (max(x) - min(x))//2, 100)\n",
    "y_model = alpha * x_model + beta\n",
    "plt.plot(x_model, y_model)"
   ]
  },
  {
   "cell_type": "code",
   "execution_count": null,
   "id": "cf9f171a",
   "metadata": {},
   "outputs": [],
   "source": []
  }
 ],
 "metadata": {
  "kernelspec": {
   "display_name": "Python 3",
   "language": "python",
   "name": "python3"
  },
  "language_info": {
   "codemirror_mode": {
    "name": "ipython",
    "version": 3
   },
   "file_extension": ".py",
   "mimetype": "text/x-python",
   "name": "python",
   "nbconvert_exporter": "python",
   "pygments_lexer": "ipython3",
   "version": "3.8.8"
  }
 },
 "nbformat": 4,
 "nbformat_minor": 5
}
